{
 "cells": [
  {
   "cell_type": "code",
   "execution_count": 1,
   "metadata": {},
   "outputs": [],
   "source": [
    "import json\n",
    "import numpy as np\n",
    "import pandas as pd\n",
    "import urllib.request\n",
    "import folium\n",
    "from folium.plugins import MarkerCluster\n",
    "from datetime import datetime\n",
    "import plotly.express as px"
   ]
  },
  {
   "cell_type": "code",
   "execution_count": 14,
   "metadata": {},
   "outputs": [],
   "source": [
    "def get_latest_earthquake_view():\n",
    "    \"\"\"\n",
    "    Display the latest earthquake map\n",
    "    \"\"\"\n",
    "    # download the earthquake data\n",
    "    with urllib.request.urlopen('https://earthquake.usgs.gov/earthquakes/feed/v1.0/summary/all_hour.geojson') as url:\n",
    "        data = json.loads(url.read().decode())\n",
    "        \n",
    "    # Get the core data from the JSON.\n",
    "    features = data['features']\n",
    "    df = pd.DataFrame()\n",
    "    lat_list = []\n",
    "    long_list = []\n",
    "    mag_list = []\n",
    "    place_list = []\n",
    "    time_list = []\n",
    "    \n",
    "    for earthquake in features:\n",
    "        long_list.append(earthquake['geometry']['coordinates'][0])\n",
    "        lat_list.append(earthquake['geometry']['coordinates'][1])\n",
    "        mag_list.append(earthquake['properties']['mag'])\n",
    "        place_list.append(earthquake['properties']['place'])\n",
    "        time_list.append(earthquake['properties']['time'])\n",
    "        \n",
    "    df['place'] = place_list\n",
    "    df['long'] = long_list\n",
    "    df['lat'] = lat_list\n",
    "    df['mag'] = mag_list\n",
    "    df['time'] = time_list\n",
    "    \n",
    "    # Create an empty map first\n",
    "    us_center = [37.09, -95.72]\n",
    "    themap = folium.Map(location=us_center, zoom_start=2)\n",
    "    \n",
    "    for index, row in df.iterrows():\n",
    "        NL = '<br/>'\n",
    "        \n",
    "        info = 'Location: ' + row['place'] + NL +        \\\n",
    "               'Mag: ' + str(row['mag']) + NL +          \\\n",
    "               'Lat: ' + str(row['lat']) + NL +          \\\n",
    "               'Long: ' + str(row['long']) + NL +        \\\n",
    "               'Datetime: ' + str(datetime.fromtimestamp(row['time'] / 1000))\n",
    "        \n",
    "        popup_iframe = folium.IFrame(info,\n",
    "                                    width=200,\n",
    "                                    height=150)\n",
    "        popup_info = folium.Popup(popup_iframe, width=100)\n",
    "        folium.Marker([row['lat'], row['long']], popup=popup_info).add_to(themap)\n",
    "    \n",
    "    title_html = '''\n",
    "    <h3 align=\"center\" style=\"font-size:20px\"><b>Latest Earthquake Map</b></h3>\n",
    "    '''\n",
    "    # Add a title to the map\n",
    "    themap.get_root().html.add_child(folium.Element(title_html))\n",
    "    display(themap)\n",
    "    \n",
    "    # histogram\n",
    "    fig = px.histogram(df, x='mag')\n",
    "    fig.show()"
   ]
  },
  {
   "cell_type": "code",
   "execution_count": 15,
   "metadata": {},
   "outputs": [
    {
     "data": {
      "text/html": [
       "<div style=\"width:100%;\"><div style=\"position:relative;width:100%;height:0;padding-bottom:60%;\"><span style=\"color:#565656\">Make this Notebook Trusted to load map: File -> Trust Notebook</span><iframe src=\"about:blank\" style=\"position:absolute;width:100%;height:100%;left:0;top:0;border:none !important;\" data-html=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 onload=\"this.contentDocument.open();this.contentDocument.write(atob(this.getAttribute('data-html')));this.contentDocument.close();\" allowfullscreen webkitallowfullscreen mozallowfullscreen></iframe></div></div>"
      ],
      "text/plain": [
       "<folium.folium.Map at 0x7fdba2f0e4c0>"
      ]
     },
     "metadata": {},
     "output_type": "display_data"
    },
    {
     "data": {
      "application/vnd.plotly.v1+json": {
       "config": {
        "plotlyServerURL": "https://plot.ly"
       },
       "data": [
        {
         "alignmentgroup": "True",
         "bingroup": "x",
         "hovertemplate": "mag=%{x}<br>count=%{y}<extra></extra>",
         "legendgroup": "",
         "marker": {
          "color": "#636efa"
         },
         "name": "",
         "offsetgroup": "",
         "orientation": "v",
         "showlegend": false,
         "type": "histogram",
         "x": [
          1.6,
          1.7,
          1.1,
          1,
          0.59,
          3.1,
          2.9,
          1.3,
          2.6,
          1.3,
          1.1,
          1.7,
          1.16,
          1.3
         ],
         "xaxis": "x",
         "yaxis": "y"
        }
       ],
       "layout": {
        "barmode": "relative",
        "legend": {
         "tracegroupgap": 0
        },
        "margin": {
         "t": 60
        },
        "template": {
         "data": {
          "bar": [
           {
            "error_x": {
             "color": "#2a3f5f"
            },
            "error_y": {
             "color": "#2a3f5f"
            },
            "marker": {
             "line": {
              "color": "#E5ECF6",
              "width": 0.5
             }
            },
            "type": "bar"
           }
          ],
          "barpolar": [
           {
            "marker": {
             "line": {
              "color": "#E5ECF6",
              "width": 0.5
             }
            },
            "type": "barpolar"
           }
          ],
          "carpet": [
           {
            "aaxis": {
             "endlinecolor": "#2a3f5f",
             "gridcolor": "white",
             "linecolor": "white",
             "minorgridcolor": "white",
             "startlinecolor": "#2a3f5f"
            },
            "baxis": {
             "endlinecolor": "#2a3f5f",
             "gridcolor": "white",
             "linecolor": "white",
             "minorgridcolor": "white",
             "startlinecolor": "#2a3f5f"
            },
            "type": "carpet"
           }
          ],
          "choropleth": [
           {
            "colorbar": {
             "outlinewidth": 0,
             "ticks": ""
            },
            "type": "choropleth"
           }
          ],
          "contour": [
           {
            "colorbar": {
             "outlinewidth": 0,
             "ticks": ""
            },
            "colorscale": [
             [
              0,
              "#0d0887"
             ],
             [
              0.1111111111111111,
              "#46039f"
             ],
             [
              0.2222222222222222,
              "#7201a8"
             ],
             [
              0.3333333333333333,
              "#9c179e"
             ],
             [
              0.4444444444444444,
              "#bd3786"
             ],
             [
              0.5555555555555556,
              "#d8576b"
             ],
             [
              0.6666666666666666,
              "#ed7953"
             ],
             [
              0.7777777777777778,
              "#fb9f3a"
             ],
             [
              0.8888888888888888,
              "#fdca26"
             ],
             [
              1,
              "#f0f921"
             ]
            ],
            "type": "contour"
           }
          ],
          "contourcarpet": [
           {
            "colorbar": {
             "outlinewidth": 0,
             "ticks": ""
            },
            "type": "contourcarpet"
           }
          ],
          "heatmap": [
           {
            "colorbar": {
             "outlinewidth": 0,
             "ticks": ""
            },
            "colorscale": [
             [
              0,
              "#0d0887"
             ],
             [
              0.1111111111111111,
              "#46039f"
             ],
             [
              0.2222222222222222,
              "#7201a8"
             ],
             [
              0.3333333333333333,
              "#9c179e"
             ],
             [
              0.4444444444444444,
              "#bd3786"
             ],
             [
              0.5555555555555556,
              "#d8576b"
             ],
             [
              0.6666666666666666,
              "#ed7953"
             ],
             [
              0.7777777777777778,
              "#fb9f3a"
             ],
             [
              0.8888888888888888,
              "#fdca26"
             ],
             [
              1,
              "#f0f921"
             ]
            ],
            "type": "heatmap"
           }
          ],
          "heatmapgl": [
           {
            "colorbar": {
             "outlinewidth": 0,
             "ticks": ""
            },
            "colorscale": [
             [
              0,
              "#0d0887"
             ],
             [
              0.1111111111111111,
              "#46039f"
             ],
             [
              0.2222222222222222,
              "#7201a8"
             ],
             [
              0.3333333333333333,
              "#9c179e"
             ],
             [
              0.4444444444444444,
              "#bd3786"
             ],
             [
              0.5555555555555556,
              "#d8576b"
             ],
             [
              0.6666666666666666,
              "#ed7953"
             ],
             [
              0.7777777777777778,
              "#fb9f3a"
             ],
             [
              0.8888888888888888,
              "#fdca26"
             ],
             [
              1,
              "#f0f921"
             ]
            ],
            "type": "heatmapgl"
           }
          ],
          "histogram": [
           {
            "marker": {
             "colorbar": {
              "outlinewidth": 0,
              "ticks": ""
             }
            },
            "type": "histogram"
           }
          ],
          "histogram2d": [
           {
            "colorbar": {
             "outlinewidth": 0,
             "ticks": ""
            },
            "colorscale": [
             [
              0,
              "#0d0887"
             ],
             [
              0.1111111111111111,
              "#46039f"
             ],
             [
              0.2222222222222222,
              "#7201a8"
             ],
             [
              0.3333333333333333,
              "#9c179e"
             ],
             [
              0.4444444444444444,
              "#bd3786"
             ],
             [
              0.5555555555555556,
              "#d8576b"
             ],
             [
              0.6666666666666666,
              "#ed7953"
             ],
             [
              0.7777777777777778,
              "#fb9f3a"
             ],
             [
              0.8888888888888888,
              "#fdca26"
             ],
             [
              1,
              "#f0f921"
             ]
            ],
            "type": "histogram2d"
           }
          ],
          "histogram2dcontour": [
           {
            "colorbar": {
             "outlinewidth": 0,
             "ticks": ""
            },
            "colorscale": [
             [
              0,
              "#0d0887"
             ],
             [
              0.1111111111111111,
              "#46039f"
             ],
             [
              0.2222222222222222,
              "#7201a8"
             ],
             [
              0.3333333333333333,
              "#9c179e"
             ],
             [
              0.4444444444444444,
              "#bd3786"
             ],
             [
              0.5555555555555556,
              "#d8576b"
             ],
             [
              0.6666666666666666,
              "#ed7953"
             ],
             [
              0.7777777777777778,
              "#fb9f3a"
             ],
             [
              0.8888888888888888,
              "#fdca26"
             ],
             [
              1,
              "#f0f921"
             ]
            ],
            "type": "histogram2dcontour"
           }
          ],
          "mesh3d": [
           {
            "colorbar": {
             "outlinewidth": 0,
             "ticks": ""
            },
            "type": "mesh3d"
           }
          ],
          "parcoords": [
           {
            "line": {
             "colorbar": {
              "outlinewidth": 0,
              "ticks": ""
             }
            },
            "type": "parcoords"
           }
          ],
          "pie": [
           {
            "automargin": true,
            "type": "pie"
           }
          ],
          "scatter": [
           {
            "marker": {
             "colorbar": {
              "outlinewidth": 0,
              "ticks": ""
             }
            },
            "type": "scatter"
           }
          ],
          "scatter3d": [
           {
            "line": {
             "colorbar": {
              "outlinewidth": 0,
              "ticks": ""
             }
            },
            "marker": {
             "colorbar": {
              "outlinewidth": 0,
              "ticks": ""
             }
            },
            "type": "scatter3d"
           }
          ],
          "scattercarpet": [
           {
            "marker": {
             "colorbar": {
              "outlinewidth": 0,
              "ticks": ""
             }
            },
            "type": "scattercarpet"
           }
          ],
          "scattergeo": [
           {
            "marker": {
             "colorbar": {
              "outlinewidth": 0,
              "ticks": ""
             }
            },
            "type": "scattergeo"
           }
          ],
          "scattergl": [
           {
            "marker": {
             "colorbar": {
              "outlinewidth": 0,
              "ticks": ""
             }
            },
            "type": "scattergl"
           }
          ],
          "scattermapbox": [
           {
            "marker": {
             "colorbar": {
              "outlinewidth": 0,
              "ticks": ""
             }
            },
            "type": "scattermapbox"
           }
          ],
          "scatterpolar": [
           {
            "marker": {
             "colorbar": {
              "outlinewidth": 0,
              "ticks": ""
             }
            },
            "type": "scatterpolar"
           }
          ],
          "scatterpolargl": [
           {
            "marker": {
             "colorbar": {
              "outlinewidth": 0,
              "ticks": ""
             }
            },
            "type": "scatterpolargl"
           }
          ],
          "scatterternary": [
           {
            "marker": {
             "colorbar": {
              "outlinewidth": 0,
              "ticks": ""
             }
            },
            "type": "scatterternary"
           }
          ],
          "surface": [
           {
            "colorbar": {
             "outlinewidth": 0,
             "ticks": ""
            },
            "colorscale": [
             [
              0,
              "#0d0887"
             ],
             [
              0.1111111111111111,
              "#46039f"
             ],
             [
              0.2222222222222222,
              "#7201a8"
             ],
             [
              0.3333333333333333,
              "#9c179e"
             ],
             [
              0.4444444444444444,
              "#bd3786"
             ],
             [
              0.5555555555555556,
              "#d8576b"
             ],
             [
              0.6666666666666666,
              "#ed7953"
             ],
             [
              0.7777777777777778,
              "#fb9f3a"
             ],
             [
              0.8888888888888888,
              "#fdca26"
             ],
             [
              1,
              "#f0f921"
             ]
            ],
            "type": "surface"
           }
          ],
          "table": [
           {
            "cells": {
             "fill": {
              "color": "#EBF0F8"
             },
             "line": {
              "color": "white"
             }
            },
            "header": {
             "fill": {
              "color": "#C8D4E3"
             },
             "line": {
              "color": "white"
             }
            },
            "type": "table"
           }
          ]
         },
         "layout": {
          "annotationdefaults": {
           "arrowcolor": "#2a3f5f",
           "arrowhead": 0,
           "arrowwidth": 1
          },
          "autotypenumbers": "strict",
          "coloraxis": {
           "colorbar": {
            "outlinewidth": 0,
            "ticks": ""
           }
          },
          "colorscale": {
           "diverging": [
            [
             0,
             "#8e0152"
            ],
            [
             0.1,
             "#c51b7d"
            ],
            [
             0.2,
             "#de77ae"
            ],
            [
             0.3,
             "#f1b6da"
            ],
            [
             0.4,
             "#fde0ef"
            ],
            [
             0.5,
             "#f7f7f7"
            ],
            [
             0.6,
             "#e6f5d0"
            ],
            [
             0.7,
             "#b8e186"
            ],
            [
             0.8,
             "#7fbc41"
            ],
            [
             0.9,
             "#4d9221"
            ],
            [
             1,
             "#276419"
            ]
           ],
           "sequential": [
            [
             0,
             "#0d0887"
            ],
            [
             0.1111111111111111,
             "#46039f"
            ],
            [
             0.2222222222222222,
             "#7201a8"
            ],
            [
             0.3333333333333333,
             "#9c179e"
            ],
            [
             0.4444444444444444,
             "#bd3786"
            ],
            [
             0.5555555555555556,
             "#d8576b"
            ],
            [
             0.6666666666666666,
             "#ed7953"
            ],
            [
             0.7777777777777778,
             "#fb9f3a"
            ],
            [
             0.8888888888888888,
             "#fdca26"
            ],
            [
             1,
             "#f0f921"
            ]
           ],
           "sequentialminus": [
            [
             0,
             "#0d0887"
            ],
            [
             0.1111111111111111,
             "#46039f"
            ],
            [
             0.2222222222222222,
             "#7201a8"
            ],
            [
             0.3333333333333333,
             "#9c179e"
            ],
            [
             0.4444444444444444,
             "#bd3786"
            ],
            [
             0.5555555555555556,
             "#d8576b"
            ],
            [
             0.6666666666666666,
             "#ed7953"
            ],
            [
             0.7777777777777778,
             "#fb9f3a"
            ],
            [
             0.8888888888888888,
             "#fdca26"
            ],
            [
             1,
             "#f0f921"
            ]
           ]
          },
          "colorway": [
           "#636efa",
           "#EF553B",
           "#00cc96",
           "#ab63fa",
           "#FFA15A",
           "#19d3f3",
           "#FF6692",
           "#B6E880",
           "#FF97FF",
           "#FECB52"
          ],
          "font": {
           "color": "#2a3f5f"
          },
          "geo": {
           "bgcolor": "white",
           "lakecolor": "white",
           "landcolor": "#E5ECF6",
           "showlakes": true,
           "showland": true,
           "subunitcolor": "white"
          },
          "hoverlabel": {
           "align": "left"
          },
          "hovermode": "closest",
          "mapbox": {
           "style": "light"
          },
          "paper_bgcolor": "white",
          "plot_bgcolor": "#E5ECF6",
          "polar": {
           "angularaxis": {
            "gridcolor": "white",
            "linecolor": "white",
            "ticks": ""
           },
           "bgcolor": "#E5ECF6",
           "radialaxis": {
            "gridcolor": "white",
            "linecolor": "white",
            "ticks": ""
           }
          },
          "scene": {
           "xaxis": {
            "backgroundcolor": "#E5ECF6",
            "gridcolor": "white",
            "gridwidth": 2,
            "linecolor": "white",
            "showbackground": true,
            "ticks": "",
            "zerolinecolor": "white"
           },
           "yaxis": {
            "backgroundcolor": "#E5ECF6",
            "gridcolor": "white",
            "gridwidth": 2,
            "linecolor": "white",
            "showbackground": true,
            "ticks": "",
            "zerolinecolor": "white"
           },
           "zaxis": {
            "backgroundcolor": "#E5ECF6",
            "gridcolor": "white",
            "gridwidth": 2,
            "linecolor": "white",
            "showbackground": true,
            "ticks": "",
            "zerolinecolor": "white"
           }
          },
          "shapedefaults": {
           "line": {
            "color": "#2a3f5f"
           }
          },
          "ternary": {
           "aaxis": {
            "gridcolor": "white",
            "linecolor": "white",
            "ticks": ""
           },
           "baxis": {
            "gridcolor": "white",
            "linecolor": "white",
            "ticks": ""
           },
           "bgcolor": "#E5ECF6",
           "caxis": {
            "gridcolor": "white",
            "linecolor": "white",
            "ticks": ""
           }
          },
          "title": {
           "x": 0.05
          },
          "xaxis": {
           "automargin": true,
           "gridcolor": "white",
           "linecolor": "white",
           "ticks": "",
           "title": {
            "standoff": 15
           },
           "zerolinecolor": "white",
           "zerolinewidth": 2
          },
          "yaxis": {
           "automargin": true,
           "gridcolor": "white",
           "linecolor": "white",
           "ticks": "",
           "title": {
            "standoff": 15
           },
           "zerolinecolor": "white",
           "zerolinewidth": 2
          }
         }
        },
        "xaxis": {
         "anchor": "y",
         "domain": [
          0,
          1
         ],
         "title": {
          "text": "mag"
         }
        },
        "yaxis": {
         "anchor": "x",
         "domain": [
          0,
          1
         ],
         "title": {
          "text": "count"
         }
        }
       }
      },
      "text/html": [
       "<div>                            <div id=\"fcd3f2b0-7d4a-48b8-aea0-edbdcc2aeae0\" class=\"plotly-graph-div\" style=\"height:525px; width:100%;\"></div>            <script type=\"text/javascript\">                require([\"plotly\"], function(Plotly) {                    window.PLOTLYENV=window.PLOTLYENV || {};                                    if (document.getElementById(\"fcd3f2b0-7d4a-48b8-aea0-edbdcc2aeae0\")) {                    Plotly.newPlot(                        \"fcd3f2b0-7d4a-48b8-aea0-edbdcc2aeae0\",                        [{\"alignmentgroup\": \"True\", \"bingroup\": \"x\", \"hovertemplate\": \"mag=%{x}<br>count=%{y}<extra></extra>\", \"legendgroup\": \"\", \"marker\": {\"color\": \"#636efa\"}, \"name\": \"\", \"offsetgroup\": \"\", \"orientation\": \"v\", \"showlegend\": false, \"type\": \"histogram\", \"x\": [1.6, 1.7, 1.1, 1.0, 0.59, 3.1, 2.9, 1.3, 2.6, 1.3, 1.1, 1.7, 1.16, 1.3], \"xaxis\": \"x\", \"yaxis\": \"y\"}],                        {\"barmode\": \"relative\", \"legend\": {\"tracegroupgap\": 0}, \"margin\": {\"t\": 60}, \"template\": {\"data\": {\"bar\": [{\"error_x\": {\"color\": \"#2a3f5f\"}, \"error_y\": {\"color\": \"#2a3f5f\"}, \"marker\": {\"line\": {\"color\": \"#E5ECF6\", \"width\": 0.5}}, \"type\": \"bar\"}], \"barpolar\": [{\"marker\": {\"line\": {\"color\": \"#E5ECF6\", \"width\": 0.5}}, \"type\": \"barpolar\"}], \"carpet\": [{\"aaxis\": {\"endlinecolor\": \"#2a3f5f\", \"gridcolor\": \"white\", \"linecolor\": \"white\", \"minorgridcolor\": \"white\", \"startlinecolor\": \"#2a3f5f\"}, \"baxis\": {\"endlinecolor\": \"#2a3f5f\", \"gridcolor\": \"white\", \"linecolor\": \"white\", \"minorgridcolor\": \"white\", \"startlinecolor\": \"#2a3f5f\"}, \"type\": \"carpet\"}], \"choropleth\": [{\"colorbar\": {\"outlinewidth\": 0, \"ticks\": \"\"}, \"type\": \"choropleth\"}], \"contour\": [{\"colorbar\": {\"outlinewidth\": 0, \"ticks\": \"\"}, \"colorscale\": [[0.0, \"#0d0887\"], [0.1111111111111111, \"#46039f\"], [0.2222222222222222, \"#7201a8\"], [0.3333333333333333, \"#9c179e\"], [0.4444444444444444, \"#bd3786\"], [0.5555555555555556, \"#d8576b\"], [0.6666666666666666, \"#ed7953\"], [0.7777777777777778, \"#fb9f3a\"], [0.8888888888888888, \"#fdca26\"], [1.0, \"#f0f921\"]], \"type\": \"contour\"}], \"contourcarpet\": [{\"colorbar\": {\"outlinewidth\": 0, \"ticks\": \"\"}, \"type\": \"contourcarpet\"}], \"heatmap\": [{\"colorbar\": {\"outlinewidth\": 0, \"ticks\": \"\"}, \"colorscale\": [[0.0, \"#0d0887\"], [0.1111111111111111, \"#46039f\"], [0.2222222222222222, \"#7201a8\"], [0.3333333333333333, \"#9c179e\"], [0.4444444444444444, \"#bd3786\"], [0.5555555555555556, \"#d8576b\"], [0.6666666666666666, \"#ed7953\"], [0.7777777777777778, \"#fb9f3a\"], [0.8888888888888888, \"#fdca26\"], [1.0, \"#f0f921\"]], \"type\": \"heatmap\"}], \"heatmapgl\": [{\"colorbar\": {\"outlinewidth\": 0, \"ticks\": \"\"}, \"colorscale\": [[0.0, \"#0d0887\"], [0.1111111111111111, \"#46039f\"], [0.2222222222222222, \"#7201a8\"], [0.3333333333333333, \"#9c179e\"], [0.4444444444444444, \"#bd3786\"], [0.5555555555555556, \"#d8576b\"], [0.6666666666666666, \"#ed7953\"], [0.7777777777777778, \"#fb9f3a\"], [0.8888888888888888, \"#fdca26\"], [1.0, \"#f0f921\"]], \"type\": \"heatmapgl\"}], \"histogram\": [{\"marker\": {\"colorbar\": {\"outlinewidth\": 0, \"ticks\": \"\"}}, \"type\": \"histogram\"}], \"histogram2d\": [{\"colorbar\": {\"outlinewidth\": 0, \"ticks\": \"\"}, \"colorscale\": [[0.0, \"#0d0887\"], [0.1111111111111111, \"#46039f\"], [0.2222222222222222, \"#7201a8\"], [0.3333333333333333, \"#9c179e\"], [0.4444444444444444, \"#bd3786\"], [0.5555555555555556, \"#d8576b\"], [0.6666666666666666, \"#ed7953\"], [0.7777777777777778, \"#fb9f3a\"], [0.8888888888888888, \"#fdca26\"], [1.0, \"#f0f921\"]], \"type\": \"histogram2d\"}], \"histogram2dcontour\": [{\"colorbar\": {\"outlinewidth\": 0, \"ticks\": \"\"}, \"colorscale\": [[0.0, \"#0d0887\"], [0.1111111111111111, \"#46039f\"], [0.2222222222222222, \"#7201a8\"], [0.3333333333333333, \"#9c179e\"], [0.4444444444444444, \"#bd3786\"], [0.5555555555555556, \"#d8576b\"], [0.6666666666666666, \"#ed7953\"], [0.7777777777777778, \"#fb9f3a\"], [0.8888888888888888, \"#fdca26\"], [1.0, \"#f0f921\"]], \"type\": \"histogram2dcontour\"}], \"mesh3d\": [{\"colorbar\": {\"outlinewidth\": 0, \"ticks\": \"\"}, \"type\": \"mesh3d\"}], \"parcoords\": [{\"line\": {\"colorbar\": {\"outlinewidth\": 0, \"ticks\": \"\"}}, \"type\": \"parcoords\"}], \"pie\": [{\"automargin\": true, \"type\": \"pie\"}], \"scatter\": [{\"marker\": {\"colorbar\": {\"outlinewidth\": 0, \"ticks\": \"\"}}, \"type\": \"scatter\"}], \"scatter3d\": [{\"line\": {\"colorbar\": {\"outlinewidth\": 0, \"ticks\": \"\"}}, \"marker\": {\"colorbar\": {\"outlinewidth\": 0, \"ticks\": \"\"}}, \"type\": \"scatter3d\"}], \"scattercarpet\": [{\"marker\": {\"colorbar\": {\"outlinewidth\": 0, \"ticks\": \"\"}}, \"type\": \"scattercarpet\"}], \"scattergeo\": [{\"marker\": {\"colorbar\": {\"outlinewidth\": 0, \"ticks\": \"\"}}, \"type\": \"scattergeo\"}], \"scattergl\": [{\"marker\": {\"colorbar\": {\"outlinewidth\": 0, \"ticks\": \"\"}}, \"type\": \"scattergl\"}], \"scattermapbox\": [{\"marker\": {\"colorbar\": {\"outlinewidth\": 0, \"ticks\": \"\"}}, \"type\": \"scattermapbox\"}], \"scatterpolar\": [{\"marker\": {\"colorbar\": {\"outlinewidth\": 0, \"ticks\": \"\"}}, \"type\": \"scatterpolar\"}], \"scatterpolargl\": [{\"marker\": {\"colorbar\": {\"outlinewidth\": 0, \"ticks\": \"\"}}, \"type\": \"scatterpolargl\"}], \"scatterternary\": [{\"marker\": {\"colorbar\": {\"outlinewidth\": 0, \"ticks\": \"\"}}, \"type\": \"scatterternary\"}], \"surface\": [{\"colorbar\": {\"outlinewidth\": 0, \"ticks\": \"\"}, \"colorscale\": [[0.0, \"#0d0887\"], [0.1111111111111111, \"#46039f\"], [0.2222222222222222, \"#7201a8\"], [0.3333333333333333, \"#9c179e\"], [0.4444444444444444, \"#bd3786\"], [0.5555555555555556, \"#d8576b\"], [0.6666666666666666, \"#ed7953\"], [0.7777777777777778, \"#fb9f3a\"], [0.8888888888888888, \"#fdca26\"], [1.0, \"#f0f921\"]], \"type\": \"surface\"}], \"table\": [{\"cells\": {\"fill\": {\"color\": \"#EBF0F8\"}, \"line\": {\"color\": \"white\"}}, \"header\": {\"fill\": {\"color\": \"#C8D4E3\"}, \"line\": {\"color\": \"white\"}}, \"type\": \"table\"}]}, \"layout\": {\"annotationdefaults\": {\"arrowcolor\": \"#2a3f5f\", \"arrowhead\": 0, \"arrowwidth\": 1}, \"autotypenumbers\": \"strict\", \"coloraxis\": {\"colorbar\": {\"outlinewidth\": 0, \"ticks\": \"\"}}, \"colorscale\": {\"diverging\": [[0, \"#8e0152\"], [0.1, \"#c51b7d\"], [0.2, \"#de77ae\"], [0.3, \"#f1b6da\"], [0.4, \"#fde0ef\"], [0.5, \"#f7f7f7\"], [0.6, \"#e6f5d0\"], [0.7, \"#b8e186\"], [0.8, \"#7fbc41\"], [0.9, \"#4d9221\"], [1, \"#276419\"]], \"sequential\": [[0.0, \"#0d0887\"], [0.1111111111111111, \"#46039f\"], [0.2222222222222222, \"#7201a8\"], [0.3333333333333333, \"#9c179e\"], [0.4444444444444444, \"#bd3786\"], [0.5555555555555556, \"#d8576b\"], [0.6666666666666666, \"#ed7953\"], [0.7777777777777778, \"#fb9f3a\"], [0.8888888888888888, \"#fdca26\"], [1.0, \"#f0f921\"]], \"sequentialminus\": [[0.0, \"#0d0887\"], [0.1111111111111111, \"#46039f\"], [0.2222222222222222, \"#7201a8\"], [0.3333333333333333, \"#9c179e\"], [0.4444444444444444, \"#bd3786\"], [0.5555555555555556, \"#d8576b\"], [0.6666666666666666, \"#ed7953\"], [0.7777777777777778, \"#fb9f3a\"], [0.8888888888888888, \"#fdca26\"], [1.0, \"#f0f921\"]]}, \"colorway\": [\"#636efa\", \"#EF553B\", \"#00cc96\", \"#ab63fa\", \"#FFA15A\", \"#19d3f3\", \"#FF6692\", \"#B6E880\", \"#FF97FF\", \"#FECB52\"], \"font\": {\"color\": \"#2a3f5f\"}, \"geo\": {\"bgcolor\": \"white\", \"lakecolor\": \"white\", \"landcolor\": \"#E5ECF6\", \"showlakes\": true, \"showland\": true, \"subunitcolor\": \"white\"}, \"hoverlabel\": {\"align\": \"left\"}, \"hovermode\": \"closest\", \"mapbox\": {\"style\": \"light\"}, \"paper_bgcolor\": \"white\", \"plot_bgcolor\": \"#E5ECF6\", \"polar\": {\"angularaxis\": {\"gridcolor\": \"white\", \"linecolor\": \"white\", \"ticks\": \"\"}, \"bgcolor\": \"#E5ECF6\", \"radialaxis\": {\"gridcolor\": \"white\", \"linecolor\": \"white\", \"ticks\": \"\"}}, \"scene\": {\"xaxis\": {\"backgroundcolor\": \"#E5ECF6\", \"gridcolor\": \"white\", \"gridwidth\": 2, \"linecolor\": \"white\", \"showbackground\": true, \"ticks\": \"\", \"zerolinecolor\": \"white\"}, \"yaxis\": {\"backgroundcolor\": \"#E5ECF6\", \"gridcolor\": \"white\", \"gridwidth\": 2, \"linecolor\": \"white\", \"showbackground\": true, \"ticks\": \"\", \"zerolinecolor\": \"white\"}, \"zaxis\": {\"backgroundcolor\": \"#E5ECF6\", \"gridcolor\": \"white\", \"gridwidth\": 2, \"linecolor\": \"white\", \"showbackground\": true, \"ticks\": \"\", \"zerolinecolor\": \"white\"}}, \"shapedefaults\": {\"line\": {\"color\": \"#2a3f5f\"}}, \"ternary\": {\"aaxis\": {\"gridcolor\": \"white\", \"linecolor\": \"white\", \"ticks\": \"\"}, \"baxis\": {\"gridcolor\": \"white\", \"linecolor\": \"white\", \"ticks\": \"\"}, \"bgcolor\": \"#E5ECF6\", \"caxis\": {\"gridcolor\": \"white\", \"linecolor\": \"white\", \"ticks\": \"\"}}, \"title\": {\"x\": 0.05}, \"xaxis\": {\"automargin\": true, \"gridcolor\": \"white\", \"linecolor\": \"white\", \"ticks\": \"\", \"title\": {\"standoff\": 15}, \"zerolinecolor\": \"white\", \"zerolinewidth\": 2}, \"yaxis\": {\"automargin\": true, \"gridcolor\": \"white\", \"linecolor\": \"white\", \"ticks\": \"\", \"title\": {\"standoff\": 15}, \"zerolinecolor\": \"white\", \"zerolinewidth\": 2}}}, \"xaxis\": {\"anchor\": \"y\", \"domain\": [0.0, 1.0], \"title\": {\"text\": \"mag\"}}, \"yaxis\": {\"anchor\": \"x\", \"domain\": [0.0, 1.0], \"title\": {\"text\": \"count\"}}},                        {\"responsive\": true}                    ).then(function(){\n",
       "                            \n",
       "var gd = document.getElementById('fcd3f2b0-7d4a-48b8-aea0-edbdcc2aeae0');\n",
       "var x = new MutationObserver(function (mutations, observer) {{\n",
       "        var display = window.getComputedStyle(gd).display;\n",
       "        if (!display || display === 'none') {{\n",
       "            console.log([gd, 'removed!']);\n",
       "            Plotly.purge(gd);\n",
       "            observer.disconnect();\n",
       "        }}\n",
       "}});\n",
       "\n",
       "// Listen for the removal of the full notebook cells\n",
       "var notebookContainer = gd.closest('#notebook-container');\n",
       "if (notebookContainer) {{\n",
       "    x.observe(notebookContainer, {childList: true});\n",
       "}}\n",
       "\n",
       "// Listen for the clearing of the current output cell\n",
       "var outputEl = gd.closest('.output');\n",
       "if (outputEl) {{\n",
       "    x.observe(outputEl, {childList: true});\n",
       "}}\n",
       "\n",
       "                        })                };                });            </script>        </div>"
      ]
     },
     "metadata": {},
     "output_type": "display_data"
    }
   ],
   "source": [
    "get_latest_earthquake_view()"
   ]
  },
  {
   "cell_type": "code",
   "execution_count": null,
   "metadata": {},
   "outputs": [],
   "source": []
  }
 ],
 "metadata": {
  "kernelspec": {
   "display_name": "Python 3",
   "language": "python",
   "name": "python3"
  },
  "language_info": {
   "codemirror_mode": {
    "name": "ipython",
    "version": 3
   },
   "file_extension": ".py",
   "mimetype": "text/x-python",
   "name": "python",
   "nbconvert_exporter": "python",
   "pygments_lexer": "ipython3",
   "version": "3.8.3"
  }
 },
 "nbformat": 4,
 "nbformat_minor": 4
}
