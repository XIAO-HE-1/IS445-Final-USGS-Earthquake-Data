{
 "cells": [
  {
   "cell_type": "markdown",
   "metadata": {},
   "source": [
    "# IS 445 Final Project\n",
    "## Group 4 - Earthquake Visualization Dashboard"
   ]
  },
  {
   "cell_type": "code",
   "execution_count": 17,
   "metadata": {},
   "outputs": [],
   "source": [
    "import json\n",
    "import numpy as np\n",
    "import pandas as pd\n",
    "import urllib.request\n",
    "import folium\n",
    "from folium.plugins import MarkerCluster\n",
    "from datetime import datetime\n",
    "import plotly.express as px\n",
    "import matplotlib.pyplot as plt\n",
    "from plotly.subplots import make_subplots\n",
    "import plotly.graph_objects as go\n",
    "import cartopy\n",
    "import seaborn as sns\n",
    "import ipywidgets\n",
    "import matplotlib.cm as cm\n",
    "import matplotlib.gridspec as gridspec"
   ]
  },
  {
   "cell_type": "code",
   "execution_count": 18,
   "metadata": {},
   "outputs": [],
   "source": [
    "df = pd.read_csv(\"EarthquakeData_12092020-12162020.csv\", parse_dates = [\"time\"])"
   ]
  },
  {
   "cell_type": "code",
   "execution_count": 19,
   "metadata": {},
   "outputs": [],
   "source": [
    "df['date'] = pd.DatetimeIndex(df['time']).date\n",
    "df_by_date = df.groupby(\"date\")"
   ]
  },
  {
   "cell_type": "code",
   "execution_count": 20,
   "metadata": {},
   "outputs": [],
   "source": [
    "df_horizontalError = df[['horizontalError','place']].sort_values('horizontalError', ascending=False).nlargest(10, 'horizontalError')\n",
    "df_magError = df[['magError','place']].sort_values('magError', ascending=False).nlargest(10, 'magError')\n",
    "df_depthError = df[['depthError','place']].sort_values('depthError', ascending=False).nlargest(10, 'depthError')\n",
    "\n",
    "df_magError = df_magError.sort_values('magError', ascending=False).drop_duplicates(['place'])\n",
    "df_horizontalError = df_horizontalError.sort_values('horizontalError', ascending=False).drop_duplicates(['place'])\n",
    "df_depthError = df_depthError.sort_values('depthError', ascending=False).drop_duplicates(['place'])"
   ]
  },
  {
   "cell_type": "code",
   "execution_count": 21,
   "metadata": {},
   "outputs": [],
   "source": [
    "def get_latest_earthquake_view():\n",
    "    \"\"\"\n",
    "    Display the latest earthquake map\n",
    "    \"\"\"\n",
    "    # download the earthquake data\n",
    "    with urllib.request.urlopen('https://earthquake.usgs.gov/earthquakes/feed/v1.0/summary/all_hour.geojson') as url:\n",
    "        data = json.loads(url.read().decode())\n",
    "        \n",
    "    # Get the core data from the JSON.\n",
    "    features = data['features']\n",
    "    df = pd.DataFrame()\n",
    "    lat_list = []\n",
    "    long_list = []\n",
    "    mag_list = []\n",
    "    place_list = []\n",
    "    time_list = []\n",
    "    \n",
    "    for earthquake in features:\n",
    "        long_list.append(earthquake['geometry']['coordinates'][0])\n",
    "        lat_list.append(earthquake['geometry']['coordinates'][1])\n",
    "        mag_list.append(earthquake['properties']['mag'])\n",
    "        place_list.append(earthquake['properties']['place'])\n",
    "        time_list.append(earthquake['properties']['time'])\n",
    "        \n",
    "    df['place'] = place_list\n",
    "    df['long'] = long_list\n",
    "    df['lat'] = lat_list\n",
    "    df['mag'] = mag_list\n",
    "    df['time'] = time_list\n",
    "    \n",
    "    # Create an empty map first\n",
    "    us_center = [37.09, -95.72]\n",
    "    themap = folium.Map(location=us_center, zoom_start=2)\n",
    "    \n",
    "    for index, row in df.iterrows():\n",
    "        NL = '<br/>'\n",
    "        \n",
    "        info = 'Location: ' + row['place'] + NL +        \\\n",
    "               'Mag: ' + str(row['mag']) + NL +          \\\n",
    "               'Lat: ' + str(row['lat']) + NL +          \\\n",
    "               'Long: ' + str(row['long']) + NL +        \\\n",
    "               'Datetime: ' + str(datetime.fromtimestamp(row['time'] / 1000))\n",
    "        \n",
    "        popup_iframe = folium.IFrame(info,\n",
    "                                    width=200,\n",
    "                                    height=150)\n",
    "        popup_info = folium.Popup(popup_iframe, width=100)\n",
    "        folium.Marker([row['lat'], row['long']], popup=popup_info).add_to(themap)\n",
    "    \n",
    "    title_html = '''\n",
    "    <h3 align=\"center\" style=\"font-size:20px\"><b>Latest Earthquake Map</b></h3>\n",
    "    '''\n",
    "    # Add a title to the map\n",
    "    themap.get_root().html.add_child(folium.Element(title_html))\n",
    "    display(themap)"
   ]
  },
  {
   "cell_type": "markdown",
   "metadata": {},
   "source": [
    "# Historical Earthquake Data\n",
    "## From 12/09/20 - 12/16/20 ##"
   ]
  },
  {
   "cell_type": "code",
   "execution_count": 22,
   "metadata": {},
   "outputs": [
    {
     "data": {
      "application/vnd.jupyter.widget-view+json": {
       "model_id": "6f7caea659cb43709b9b3253ad5c4288",
       "version_major": 2,
       "version_minor": 0
      },
      "text/plain": [
       "interactive(children=(Dropdown(description='date', options=(datetime.date(2020, 12, 16), datetime.date(2020, 1…"
      ]
     },
     "metadata": {},
     "output_type": "display_data"
    },
    {
     "data": {
      "image/png": "[encoded data removed]",
      "text/plain": [
       "<Figure size 1152x360 with 2 Axes>"
      ]
     },
     "metadata": {
      "needs_background": "light"
     },
     "output_type": "display_data"
    }
   ],
   "source": [
    "labels = df['date'].unique()\n",
    "\n",
    "# plot the interactive map\n",
    "@ipywidgets.interact(date = labels)\n",
    "def date_filter(date):\n",
    "    fig = plt.figure(figsize=(20, 8))\n",
    "    ax = fig.add_subplot(111, projection = cartopy.crs.PlateCarree())\n",
    "    ax.set_global()\n",
    "    ax.gridlines()\n",
    "    ax.coastlines()\n",
    "    for i in range(len(labels)): \n",
    "        df_date = df[df[\"date\"]==date]\n",
    "        fig_map = plt.scatter(df_date[\"longitude\"], df_date[\"latitude\"], \n",
    "                   transform = cartopy.crs.PlateCarree(), s = df_date[\"mag\"]*100,\n",
    "                   c = df_date[\"mag\"], vmin = 0, vmax = df['mag'].max(), \n",
    "                   cmap=\"inferno\", alpha=0.12)\n",
    "    cb = plt.colorbar(orientation = 'vertical', fraction=0.024, pad=0.02)\n",
    "    cb.set_alpha(1)\n",
    "    cb.draw_all()\n",
    "    cb.ax.tick_params(labelsize='x-large')\n",
    "\n",
    "# plot the bar chart for the date  \n",
    "grid = plt.GridSpec(1, 2, wspace=0.15, hspace=0.5)\n",
    "plt.figure(figsize=(16, 5))\n",
    "plt.subplot(grid[0,0])\n",
    "plt.bar(df_by_date.size().index, df_by_date.size(), zorder=2)\n",
    "plt.xlabel(\"Date\", fontsize = 12)\n",
    "plt.ylabel(\"Earthquake Count\", fontsize = 12)\n",
    "plt.xticks(rotation = 45)\n",
    "plt.grid(axis = 'y', color = 'grey', alpha=0.5, zorder=0)\n",
    "\n",
    "# plot the histogram for the magnitude data\n",
    "plt.subplot(grid[0,1])\n",
    "num_bins = 20\n",
    "n, bins, patches = plt.hist(df['mag'], num_bins, facecolor='blue', alpha=0.5)\n",
    "\n",
    "plt.ylabel('Frequency', fontsize = 12)\n",
    "plt.xlabel('Magnitude', fontsize = 12)\n",
    "plt.grid(axis = 'y', color = 'grey', alpha=0.5, zorder=0)"
   ]
  },
  {
   "cell_type": "markdown",
   "metadata": {},
   "source": [
    "# Real-time Earthquake Data\n",
    "###### Refresh by rerunning the function"
   ]
  },
  {
   "cell_type": "code",
   "execution_count": 23,
   "metadata": {},
   "outputs": [
    {
     "data": {
      "text/html": [
       "<div style=\"width:100%;\"><div style=\"position:relative;width:100%;height:0;padding-bottom:60%;\"><iframe src=\"data:text/html;charset=utf-8;base64,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\" style=\"position:absolute;width:100%;height:100%;left:0;top:0;border:none !important;\" allowfullscreen webkitallowfullscreen mozallowfullscreen></iframe></div></div>"
      ],
      "text/plain": [
       "<folium.folium.Map at 0x7f1978f67070>"
      ]
     },
     "metadata": {},
     "output_type": "display_data"
    }
   ],
   "source": [
    "get_latest_earthquake_view()"
   ]
  },
  {
   "cell_type": "markdown",
   "metadata": {},
   "source": [
    "# Earthquake Data Analysis\n",
    "#### Focusing on magnitude error, depth error, and horizontal error"
   ]
  },
  {
   "cell_type": "code",
   "execution_count": 24,
   "metadata": {},
   "outputs": [
    {
     "data": {
      "application/vnd.plotly.v1+json": {
       "config": {
        "plotlyServerURL": "https://plot.ly"
       },
       "data": [
        {
         "name": "Magnitude Error",
         "type": "bar",
         "x": [
          "5 km W of La Parguera, Puerto Rico",
          "26 km S of Mina, Nevada",
          "4 km SSW of Guánica, Puerto Rico",
          "33 km SE of Mina, Nevada",
          "7 km E of Lima, Montana",
          "24 km S of Mina, Nevada",
          "4 km SE of Maria Antonia, Puerto Rico",
          "9km ESE of Willits, CA",
          "121 km WSW of Abra Pampa, Argentina"
         ],
         "xaxis": "x",
         "y": [
          0.51,
          0.51,
          0.44,
          0.44,
          0.429,
          0.39,
          0.39,
          0.379,
          0.373
         ],
         "yaxis": "y"
        },
        {
         "name": "Horizontal Error (km)",
         "type": "bar",
         "x": [
          "168 km SSE of Hihifo, Tonga",
          "69 km N of Atka, Alaska",
          "south of the Fiji Islands",
          "2 km SE of Biga, Philippines",
          "121 km WSW of Abra Pampa, Argentina",
          "Vanuatu region",
          "113 km WNW of Pangai, Tonga",
          "Santa Cruz Islands",
          "Fiji region"
         ],
         "xaxis": "x2",
         "y": [
          15.4,
          15.1,
          14.8,
          14.3,
          14.3,
          13.7,
          13.6,
          13.3,
          13.3
         ],
         "yaxis": "y2"
        },
        {
         "name": "Depth Error (km)",
         "type": "bar",
         "x": [
          "75 km SE of Unalaska, Alaska",
          "104 km NE of Punta Cana, Dominican Republic",
          "81 km NNW of San Antonio, Puerto Rico",
          "80 km NNW of San Antonio, Puerto Rico",
          "83 km N of Arecibo, Puerto Rico",
          "76 km N of Brenas, Puerto Rico",
          "64 km SE of Sand Point, Alaska",
          "80 km N of Tierras Nuevas Poniente, Puerto Rico",
          "113 km WNW of Pangai, Tonga",
          "6 km SSE of La Parguera, Puerto Rico"
         ],
         "xaxis": "x3",
         "y": [
          56.5,
          32.68,
          28.26,
          26.71,
          15.6,
          14.42,
          14.4,
          14.32,
          14.3,
          13.5
         ],
         "yaxis": "y3"
        }
       ],
       "layout": {
        "height": 600,
        "template": {
         "data": {
          "bar": [
           {
            "error_x": {
             "color": "#2a3f5f"
            },
            "error_y": {
             "color": "#2a3f5f"
            },
            "marker": {
             "line": {
              "color": "#E5ECF6",
              "width": 0.5
             }
            },
            "type": "bar"
           }
          ],
          "barpolar": [
           {
            "marker": {
             "line": {
              "color": "#E5ECF6",
              "width": 0.5
             }
            },
            "type": "barpolar"
           }
          ],
          "carpet": [
           {
            "aaxis": {
             "endlinecolor": "#2a3f5f",
             "gridcolor": "white",
             "linecolor": "white",
             "minorgridcolor": "white",
             "startlinecolor": "#2a3f5f"
            },
            "baxis": {
             "endlinecolor": "#2a3f5f",
             "gridcolor": "white",
             "linecolor": "white",
             "minorgridcolor": "white",
             "startlinecolor": "#2a3f5f"
            },
            "type": "carpet"
           }
          ],
          "choropleth": [
           {
            "colorbar": {
             "outlinewidth": 0,
             "ticks": ""
            },
            "type": "choropleth"
           }
          ],
          "contour": [
           {
            "colorbar": {
             "outlinewidth": 0,
             "ticks": ""
            },
            "colorscale": [
             [
              0,
              "#0d0887"
             ],
             [
              0.1111111111111111,
              "#46039f"
             ],
             [
              0.2222222222222222,
              "#7201a8"
             ],
             [
              0.3333333333333333,
              "#9c179e"
             ],
             [
              0.4444444444444444,
              "#bd3786"
             ],
             [
              0.5555555555555556,
              "#d8576b"
             ],
             [
              0.6666666666666666,
              "#ed7953"
             ],
             [
              0.7777777777777778,
              "#fb9f3a"
             ],
             [
              0.8888888888888888,
              "#fdca26"
             ],
             [
              1,
              "#f0f921"
             ]
            ],
            "type": "contour"
           }
          ],
          "contourcarpet": [
           {
            "colorbar": {
             "outlinewidth": 0,
             "ticks": ""
            },
            "type": "contourcarpet"
           }
          ],
          "heatmap": [
           {
            "colorbar": {
             "outlinewidth": 0,
             "ticks": ""
            },
            "colorscale": [
             [
              0,
              "#0d0887"
             ],
             [
              0.1111111111111111,
              "#46039f"
             ],
             [
              0.2222222222222222,
              "#7201a8"
             ],
             [
              0.3333333333333333,
              "#9c179e"
             ],
             [
              0.4444444444444444,
              "#bd3786"
             ],
             [
              0.5555555555555556,
              "#d8576b"
             ],
             [
              0.6666666666666666,
              "#ed7953"
             ],
             [
              0.7777777777777778,
              "#fb9f3a"
             ],
             [
              0.8888888888888888,
              "#fdca26"
             ],
             [
              1,
              "#f0f921"
             ]
            ],
            "type": "heatmap"
           }
          ],
          "heatmapgl": [
           {
            "colorbar": {
             "outlinewidth": 0,
             "ticks": ""
            },
            "colorscale": [
             [
              0,
              "#0d0887"
             ],
             [
              0.1111111111111111,
              "#46039f"
             ],
             [
              0.2222222222222222,
              "#7201a8"
             ],
             [
              0.3333333333333333,
              "#9c179e"
             ],
             [
              0.4444444444444444,
              "#bd3786"
             ],
             [
              0.5555555555555556,
              "#d8576b"
             ],
             [
              0.6666666666666666,
              "#ed7953"
             ],
             [
              0.7777777777777778,
              "#fb9f3a"
             ],
             [
              0.8888888888888888,
              "#fdca26"
             ],
             [
              1,
              "#f0f921"
             ]
            ],
            "type": "heatmapgl"
           }
          ],
          "histogram": [
           {
            "marker": {
             "colorbar": {
              "outlinewidth": 0,
              "ticks": ""
             }
            },
            "type": "histogram"
           }
          ],
          "histogram2d": [
           {
            "colorbar": {
             "outlinewidth": 0,
             "ticks": ""
            },
            "colorscale": [
             [
              0,
              "#0d0887"
             ],
             [
              0.1111111111111111,
              "#46039f"
             ],
             [
              0.2222222222222222,
              "#7201a8"
             ],
             [
              0.3333333333333333,
              "#9c179e"
             ],
             [
              0.4444444444444444,
              "#bd3786"
             ],
             [
              0.5555555555555556,
              "#d8576b"
             ],
             [
              0.6666666666666666,
              "#ed7953"
             ],
             [
              0.7777777777777778,
              "#fb9f3a"
             ],
             [
              0.8888888888888888,
              "#fdca26"
             ],
             [
              1,
              "#f0f921"
             ]
            ],
            "type": "histogram2d"
           }
          ],
          "histogram2dcontour": [
           {
            "colorbar": {
             "outlinewidth": 0,
             "ticks": ""
            },
            "colorscale": [
             [
              0,
              "#0d0887"
             ],
             [
              0.1111111111111111,
              "#46039f"
             ],
             [
              0.2222222222222222,
              "#7201a8"
             ],
             [
              0.3333333333333333,
              "#9c179e"
             ],
             [
              0.4444444444444444,
              "#bd3786"
             ],
             [
              0.5555555555555556,
              "#d8576b"
             ],
             [
              0.6666666666666666,
              "#ed7953"
             ],
             [
              0.7777777777777778,
              "#fb9f3a"
             ],
             [
              0.8888888888888888,
              "#fdca26"
             ],
             [
              1,
              "#f0f921"
             ]
            ],
            "type": "histogram2dcontour"
           }
          ],
          "mesh3d": [
           {
            "colorbar": {
             "outlinewidth": 0,
             "ticks": ""
            },
            "type": "mesh3d"
           }
          ],
          "parcoords": [
           {
            "line": {
             "colorbar": {
              "outlinewidth": 0,
              "ticks": ""
             }
            },
            "type": "parcoords"
           }
          ],
          "pie": [
           {
            "automargin": true,
            "type": "pie"
           }
          ],
          "scatter": [
           {
            "marker": {
             "colorbar": {
              "outlinewidth": 0,
              "ticks": ""
             }
            },
            "type": "scatter"
           }
          ],
          "scatter3d": [
           {
            "line": {
             "colorbar": {
              "outlinewidth": 0,
              "ticks": ""
             }
            },
            "marker": {
             "colorbar": {
              "outlinewidth": 0,
              "ticks": ""
             }
            },
            "type": "scatter3d"
           }
          ],
          "scattercarpet": [
           {
            "marker": {
             "colorbar": {
              "outlinewidth": 0,
              "ticks": ""
             }
            },
            "type": "scattercarpet"
           }
          ],
          "scattergeo": [
           {
            "marker": {
             "colorbar": {
              "outlinewidth": 0,
              "ticks": ""
             }
            },
            "type": "scattergeo"
           }
          ],
          "scattergl": [
           {
            "marker": {
             "colorbar": {
              "outlinewidth": 0,
              "ticks": ""
             }
            },
            "type": "scattergl"
           }
          ],
          "scattermapbox": [
           {
            "marker": {
             "colorbar": {
              "outlinewidth": 0,
              "ticks": ""
             }
            },
            "type": "scattermapbox"
           }
          ],
          "scatterpolar": [
           {
            "marker": {
             "colorbar": {
              "outlinewidth": 0,
              "ticks": ""
             }
            },
            "type": "scatterpolar"
           }
          ],
          "scatterpolargl": [
           {
            "marker": {
             "colorbar": {
              "outlinewidth": 0,
              "ticks": ""
             }
            },
            "type": "scatterpolargl"
           }
          ],
          "scatterternary": [
           {
            "marker": {
             "colorbar": {
              "outlinewidth": 0,
              "ticks": ""
             }
            },
            "type": "scatterternary"
           }
          ],
          "surface": [
           {
            "colorbar": {
             "outlinewidth": 0,
             "ticks": ""
            },
            "colorscale": [
             [
              0,
              "#0d0887"
             ],
             [
              0.1111111111111111,
              "#46039f"
             ],
             [
              0.2222222222222222,
              "#7201a8"
             ],
             [
              0.3333333333333333,
              "#9c179e"
             ],
             [
              0.4444444444444444,
              "#bd3786"
             ],
             [
              0.5555555555555556,
              "#d8576b"
             ],
             [
              0.6666666666666666,
              "#ed7953"
             ],
             [
              0.7777777777777778,
              "#fb9f3a"
             ],
             [
              0.8888888888888888,
              "#fdca26"
             ],
             [
              1,
              "#f0f921"
             ]
            ],
            "type": "surface"
           }
          ],
          "table": [
           {
            "cells": {
             "fill": {
              "color": "#EBF0F8"
             },
             "line": {
              "color": "white"
             }
            },
            "header": {
             "fill": {
              "color": "#C8D4E3"
             },
             "line": {
              "color": "white"
             }
            },
            "type": "table"
           }
          ]
         },
         "layout": {
          "annotationdefaults": {
           "arrowcolor": "#2a3f5f",
           "arrowhead": 0,
           "arrowwidth": 1
          },
          "autotypenumbers": "strict",
          "coloraxis": {
           "colorbar": {
            "outlinewidth": 0,
            "ticks": ""
           }
          },
          "colorscale": {
           "diverging": [
            [
             0,
             "#8e0152"
            ],
            [
             0.1,
             "#c51b7d"
            ],
            [
             0.2,
             "#de77ae"
            ],
            [
             0.3,
             "#f1b6da"
            ],
            [
             0.4,
             "#fde0ef"
            ],
            [
             0.5,
             "#f7f7f7"
            ],
            [
             0.6,
             "#e6f5d0"
            ],
            [
             0.7,
             "#b8e186"
            ],
            [
             0.8,
             "#7fbc41"
            ],
            [
             0.9,
             "#4d9221"
            ],
            [
             1,
             "#276419"
            ]
           ],
           "sequential": [
            [
             0,
             "#0d0887"
            ],
            [
             0.1111111111111111,
             "#46039f"
            ],
            [
             0.2222222222222222,
             "#7201a8"
            ],
            [
             0.3333333333333333,
             "#9c179e"
            ],
            [
             0.4444444444444444,
             "#bd3786"
            ],
            [
             0.5555555555555556,
             "#d8576b"
            ],
            [
             0.6666666666666666,
             "#ed7953"
            ],
            [
             0.7777777777777778,
             "#fb9f3a"
            ],
            [
             0.8888888888888888,
             "#fdca26"
            ],
            [
             1,
             "#f0f921"
            ]
           ],
           "sequentialminus": [
            [
             0,
             "#0d0887"
            ],
            [
             0.1111111111111111,
             "#46039f"
            ],
            [
             0.2222222222222222,
             "#7201a8"
            ],
            [
             0.3333333333333333,
             "#9c179e"
            ],
            [
             0.4444444444444444,
             "#bd3786"
            ],
            [
             0.5555555555555556,
             "#d8576b"
            ],
            [
             0.6666666666666666,
             "#ed7953"
            ],
            [
             0.7777777777777778,
             "#fb9f3a"
            ],
            [
             0.8888888888888888,
             "#fdca26"
            ],
            [
             1,
             "#f0f921"
            ]
           ]
          },
          "colorway": [
           "#636efa",
           "#EF553B",
           "#00cc96",
           "#ab63fa",
           "#FFA15A",
           "#19d3f3",
           "#FF6692",
           "#B6E880",
           "#FF97FF",
           "#FECB52"
          ],
          "font": {
           "color": "#2a3f5f"
          },
          "geo": {
           "bgcolor": "white",
           "lakecolor": "white",
           "landcolor": "#E5ECF6",
           "showlakes": true,
           "showland": true,
           "subunitcolor": "white"
          },
          "hoverlabel": {
           "align": "left"
          },
          "hovermode": "closest",
          "mapbox": {
           "style": "light"
          },
          "paper_bgcolor": "white",
          "plot_bgcolor": "#E5ECF6",
          "polar": {
           "angularaxis": {
            "gridcolor": "white",
            "linecolor": "white",
            "ticks": ""
           },
           "bgcolor": "#E5ECF6",
           "radialaxis": {
            "gridcolor": "white",
            "linecolor": "white",
            "ticks": ""
           }
          },
          "scene": {
           "xaxis": {
            "backgroundcolor": "#E5ECF6",
            "gridcolor": "white",
            "gridwidth": 2,
            "linecolor": "white",
            "showbackground": true,
            "ticks": "",
            "zerolinecolor": "white"
           },
           "yaxis": {
            "backgroundcolor": "#E5ECF6",
            "gridcolor": "white",
            "gridwidth": 2,
            "linecolor": "white",
            "showbackground": true,
            "ticks": "",
            "zerolinecolor": "white"
           },
           "zaxis": {
            "backgroundcolor": "#E5ECF6",
            "gridcolor": "white",
            "gridwidth": 2,
            "linecolor": "white",
            "showbackground": true,
            "ticks": "",
            "zerolinecolor": "white"
           }
          },
          "shapedefaults": {
           "line": {
            "color": "#2a3f5f"
           }
          },
          "ternary": {
           "aaxis": {
            "gridcolor": "white",
            "linecolor": "white",
            "ticks": ""
           },
           "baxis": {
            "gridcolor": "white",
            "linecolor": "white",
            "ticks": ""
           },
           "bgcolor": "#E5ECF6",
           "caxis": {
            "gridcolor": "white",
            "linecolor": "white",
            "ticks": ""
           }
          },
          "title": {
           "x": 0.05
          },
          "xaxis": {
           "automargin": true,
           "gridcolor": "white",
           "linecolor": "white",
           "ticks": "",
           "title": {
            "standoff": 15
           },
           "zerolinecolor": "white",
           "zerolinewidth": 2
          },
          "yaxis": {
           "automargin": true,
           "gridcolor": "white",
           "linecolor": "white",
           "ticks": "",
           "title": {
            "standoff": 15
           },
           "zerolinecolor": "white",
           "zerolinewidth": 2
          }
         }
        },
        "title": {
         "text": "Top 10 places with highest magnitude error, horizontal error and depth error"
        },
        "width": 800,
        "xaxis": {
         "anchor": "y",
         "domain": [
          0,
          0.2888888888888889
         ]
        },
        "xaxis2": {
         "anchor": "y2",
         "domain": [
          0.35555555555555557,
          0.6444444444444445
         ]
        },
        "xaxis3": {
         "anchor": "y3",
         "domain": [
          0.7111111111111111,
          1
         ]
        },
        "yaxis": {
         "anchor": "x",
         "domain": [
          0,
          1
         ]
        },
        "yaxis2": {
         "anchor": "x2",
         "domain": [
          0,
          1
         ]
        },
        "yaxis3": {
         "anchor": "x3",
         "domain": [
          0,
          1
         ]
        }
       }
      },
      "text/html": [
       "<div>                            <div id=\"51574ff8-0713-438e-a358-805b2f4272eb\" class=\"plotly-graph-div\" style=\"height:600px; width:800px;\"></div>            <script type=\"text/javascript\">                require([\"plotly\"], function(Plotly) {                    window.PLOTLYENV=window.PLOTLYENV || {};                                    if (document.getElementById(\"51574ff8-0713-438e-a358-805b2f4272eb\")) {                    Plotly.newPlot(                        \"51574ff8-0713-438e-a358-805b2f4272eb\",                        [{\"name\": \"Magnitude Error\", \"type\": \"bar\", \"x\": [\"5 km W of La Parguera, Puerto Rico\", \"26 km S of Mina, Nevada\", \"4 km SSW of Gu\\u00e1nica, Puerto Rico\", \"33 km SE of Mina, Nevada\", \"7 km E of Lima, Montana\", \"24 km S of Mina, Nevada\", \"4 km SE of Maria Antonia, Puerto Rico\", \"9km ESE of Willits, CA\", \"121 km WSW of Abra Pampa, Argentina\"], \"xaxis\": \"x\", \"y\": [0.51, 0.51, 0.44, 0.44, 0.429, 0.39, 0.39, 0.379, 0.373], \"yaxis\": \"y\"}, {\"name\": \"Horizontal Error (km)\", \"type\": \"bar\", \"x\": [\"168 km SSE of Hihifo, Tonga\", \"69 km N of Atka, Alaska\", \"south of the Fiji Islands\", \"2 km SE of Biga, Philippines\", \"121 km WSW of Abra Pampa, Argentina\", \"Vanuatu region\", \"113 km WNW of Pangai, Tonga\", \"Santa Cruz Islands\", \"Fiji region\"], \"xaxis\": \"x2\", \"y\": [15.4, 15.1, 14.8, 14.3, 14.3, 13.7, 13.6, 13.3, 13.3], \"yaxis\": \"y2\"}, {\"name\": \"Depth Error (km)\", \"type\": \"bar\", \"x\": [\"75 km SE of Unalaska, Alaska\", \"104 km NE of Punta Cana, Dominican Republic\", \"81 km NNW of San Antonio, Puerto Rico\", \"80 km NNW of San Antonio, Puerto Rico\", \"83 km N of Arecibo, Puerto Rico\", \"76 km N of Brenas, Puerto Rico\", \"64 km SE of Sand Point, Alaska\", \"80 km N of Tierras Nuevas Poniente, Puerto Rico\", \"113 km WNW of Pangai, Tonga\", \"6 km SSE of La Parguera, Puerto Rico\"], \"xaxis\": \"x3\", \"y\": [56.5, 32.68, 28.26, 26.71, 15.6, 14.42, 14.4, 14.32, 14.3, 13.5], \"yaxis\": \"y3\"}],                        {\"height\": 600, \"template\": {\"data\": {\"bar\": [{\"error_x\": {\"color\": \"#2a3f5f\"}, \"error_y\": {\"color\": \"#2a3f5f\"}, \"marker\": {\"line\": {\"color\": \"#E5ECF6\", \"width\": 0.5}}, \"type\": \"bar\"}], \"barpolar\": [{\"marker\": {\"line\": {\"color\": \"#E5ECF6\", \"width\": 0.5}}, \"type\": \"barpolar\"}], \"carpet\": [{\"aaxis\": {\"endlinecolor\": \"#2a3f5f\", \"gridcolor\": \"white\", \"linecolor\": \"white\", \"minorgridcolor\": \"white\", \"startlinecolor\": \"#2a3f5f\"}, \"baxis\": {\"endlinecolor\": \"#2a3f5f\", \"gridcolor\": \"white\", \"linecolor\": \"white\", \"minorgridcolor\": \"white\", \"startlinecolor\": \"#2a3f5f\"}, \"type\": \"carpet\"}], \"choropleth\": [{\"colorbar\": {\"outlinewidth\": 0, \"ticks\": \"\"}, \"type\": \"choropleth\"}], \"contour\": [{\"colorbar\": {\"outlinewidth\": 0, \"ticks\": \"\"}, \"colorscale\": [[0.0, \"#0d0887\"], [0.1111111111111111, \"#46039f\"], [0.2222222222222222, \"#7201a8\"], [0.3333333333333333, \"#9c179e\"], [0.4444444444444444, \"#bd3786\"], [0.5555555555555556, \"#d8576b\"], [0.6666666666666666, \"#ed7953\"], [0.7777777777777778, \"#fb9f3a\"], [0.8888888888888888, \"#fdca26\"], [1.0, \"#f0f921\"]], \"type\": \"contour\"}], \"contourcarpet\": [{\"colorbar\": {\"outlinewidth\": 0, \"ticks\": \"\"}, \"type\": \"contourcarpet\"}], \"heatmap\": [{\"colorbar\": {\"outlinewidth\": 0, \"ticks\": \"\"}, \"colorscale\": [[0.0, \"#0d0887\"], [0.1111111111111111, \"#46039f\"], [0.2222222222222222, \"#7201a8\"], [0.3333333333333333, \"#9c179e\"], [0.4444444444444444, \"#bd3786\"], [0.5555555555555556, \"#d8576b\"], [0.6666666666666666, \"#ed7953\"], [0.7777777777777778, \"#fb9f3a\"], [0.8888888888888888, \"#fdca26\"], [1.0, \"#f0f921\"]], \"type\": \"heatmap\"}], \"heatmapgl\": [{\"colorbar\": {\"outlinewidth\": 0, \"ticks\": \"\"}, \"colorscale\": [[0.0, \"#0d0887\"], [0.1111111111111111, \"#46039f\"], [0.2222222222222222, \"#7201a8\"], [0.3333333333333333, \"#9c179e\"], [0.4444444444444444, \"#bd3786\"], [0.5555555555555556, \"#d8576b\"], [0.6666666666666666, \"#ed7953\"], [0.7777777777777778, \"#fb9f3a\"], [0.8888888888888888, \"#fdca26\"], [1.0, \"#f0f921\"]], \"type\": \"heatmapgl\"}], \"histogram\": [{\"marker\": {\"colorbar\": {\"outlinewidth\": 0, \"ticks\": \"\"}}, \"type\": \"histogram\"}], \"histogram2d\": [{\"colorbar\": {\"outlinewidth\": 0, \"ticks\": \"\"}, \"colorscale\": [[0.0, \"#0d0887\"], [0.1111111111111111, \"#46039f\"], [0.2222222222222222, \"#7201a8\"], [0.3333333333333333, \"#9c179e\"], [0.4444444444444444, \"#bd3786\"], [0.5555555555555556, \"#d8576b\"], [0.6666666666666666, \"#ed7953\"], [0.7777777777777778, \"#fb9f3a\"], [0.8888888888888888, \"#fdca26\"], [1.0, \"#f0f921\"]], \"type\": \"histogram2d\"}], \"histogram2dcontour\": [{\"colorbar\": {\"outlinewidth\": 0, \"ticks\": \"\"}, \"colorscale\": [[0.0, \"#0d0887\"], [0.1111111111111111, \"#46039f\"], [0.2222222222222222, \"#7201a8\"], [0.3333333333333333, \"#9c179e\"], [0.4444444444444444, \"#bd3786\"], [0.5555555555555556, \"#d8576b\"], [0.6666666666666666, \"#ed7953\"], [0.7777777777777778, \"#fb9f3a\"], [0.8888888888888888, \"#fdca26\"], [1.0, \"#f0f921\"]], \"type\": \"histogram2dcontour\"}], \"mesh3d\": [{\"colorbar\": {\"outlinewidth\": 0, \"ticks\": \"\"}, \"type\": \"mesh3d\"}], \"parcoords\": [{\"line\": {\"colorbar\": {\"outlinewidth\": 0, \"ticks\": \"\"}}, \"type\": \"parcoords\"}], \"pie\": [{\"automargin\": true, \"type\": \"pie\"}], \"scatter\": [{\"marker\": {\"colorbar\": {\"outlinewidth\": 0, \"ticks\": \"\"}}, \"type\": \"scatter\"}], \"scatter3d\": [{\"line\": {\"colorbar\": {\"outlinewidth\": 0, \"ticks\": \"\"}}, \"marker\": {\"colorbar\": {\"outlinewidth\": 0, \"ticks\": \"\"}}, \"type\": \"scatter3d\"}], \"scattercarpet\": [{\"marker\": {\"colorbar\": {\"outlinewidth\": 0, \"ticks\": \"\"}}, \"type\": \"scattercarpet\"}], \"scattergeo\": [{\"marker\": {\"colorbar\": {\"outlinewidth\": 0, \"ticks\": \"\"}}, \"type\": \"scattergeo\"}], \"scattergl\": [{\"marker\": {\"colorbar\": {\"outlinewidth\": 0, \"ticks\": \"\"}}, \"type\": \"scattergl\"}], \"scattermapbox\": [{\"marker\": {\"colorbar\": {\"outlinewidth\": 0, \"ticks\": \"\"}}, \"type\": \"scattermapbox\"}], \"scatterpolar\": [{\"marker\": {\"colorbar\": {\"outlinewidth\": 0, \"ticks\": \"\"}}, \"type\": \"scatterpolar\"}], \"scatterpolargl\": [{\"marker\": {\"colorbar\": {\"outlinewidth\": 0, \"ticks\": \"\"}}, \"type\": \"scatterpolargl\"}], \"scatterternary\": [{\"marker\": {\"colorbar\": {\"outlinewidth\": 0, \"ticks\": \"\"}}, \"type\": \"scatterternary\"}], \"surface\": [{\"colorbar\": {\"outlinewidth\": 0, \"ticks\": \"\"}, \"colorscale\": [[0.0, \"#0d0887\"], [0.1111111111111111, \"#46039f\"], [0.2222222222222222, \"#7201a8\"], [0.3333333333333333, \"#9c179e\"], [0.4444444444444444, \"#bd3786\"], [0.5555555555555556, \"#d8576b\"], [0.6666666666666666, \"#ed7953\"], [0.7777777777777778, \"#fb9f3a\"], [0.8888888888888888, \"#fdca26\"], [1.0, \"#f0f921\"]], \"type\": \"surface\"}], \"table\": [{\"cells\": {\"fill\": {\"color\": \"#EBF0F8\"}, \"line\": {\"color\": \"white\"}}, \"header\": {\"fill\": {\"color\": \"#C8D4E3\"}, \"line\": {\"color\": \"white\"}}, \"type\": \"table\"}]}, \"layout\": {\"annotationdefaults\": {\"arrowcolor\": \"#2a3f5f\", \"arrowhead\": 0, \"arrowwidth\": 1}, \"autotypenumbers\": \"strict\", \"coloraxis\": {\"colorbar\": {\"outlinewidth\": 0, \"ticks\": \"\"}}, \"colorscale\": {\"diverging\": [[0, \"#8e0152\"], [0.1, \"#c51b7d\"], [0.2, \"#de77ae\"], [0.3, \"#f1b6da\"], [0.4, \"#fde0ef\"], [0.5, \"#f7f7f7\"], [0.6, \"#e6f5d0\"], [0.7, \"#b8e186\"], [0.8, \"#7fbc41\"], [0.9, \"#4d9221\"], [1, \"#276419\"]], \"sequential\": [[0.0, \"#0d0887\"], [0.1111111111111111, \"#46039f\"], [0.2222222222222222, \"#7201a8\"], [0.3333333333333333, \"#9c179e\"], [0.4444444444444444, \"#bd3786\"], [0.5555555555555556, \"#d8576b\"], [0.6666666666666666, \"#ed7953\"], [0.7777777777777778, \"#fb9f3a\"], [0.8888888888888888, \"#fdca26\"], [1.0, \"#f0f921\"]], \"sequentialminus\": [[0.0, \"#0d0887\"], [0.1111111111111111, \"#46039f\"], [0.2222222222222222, \"#7201a8\"], [0.3333333333333333, \"#9c179e\"], [0.4444444444444444, \"#bd3786\"], [0.5555555555555556, \"#d8576b\"], [0.6666666666666666, \"#ed7953\"], [0.7777777777777778, \"#fb9f3a\"], [0.8888888888888888, \"#fdca26\"], [1.0, \"#f0f921\"]]}, \"colorway\": [\"#636efa\", \"#EF553B\", \"#00cc96\", \"#ab63fa\", \"#FFA15A\", \"#19d3f3\", \"#FF6692\", \"#B6E880\", \"#FF97FF\", \"#FECB52\"], \"font\": {\"color\": \"#2a3f5f\"}, \"geo\": {\"bgcolor\": \"white\", \"lakecolor\": \"white\", \"landcolor\": \"#E5ECF6\", \"showlakes\": true, \"showland\": true, \"subunitcolor\": \"white\"}, \"hoverlabel\": {\"align\": \"left\"}, \"hovermode\": \"closest\", \"mapbox\": {\"style\": \"light\"}, \"paper_bgcolor\": \"white\", \"plot_bgcolor\": \"#E5ECF6\", \"polar\": {\"angularaxis\": {\"gridcolor\": \"white\", \"linecolor\": \"white\", \"ticks\": \"\"}, \"bgcolor\": \"#E5ECF6\", \"radialaxis\": {\"gridcolor\": \"white\", \"linecolor\": \"white\", \"ticks\": \"\"}}, \"scene\": {\"xaxis\": {\"backgroundcolor\": \"#E5ECF6\", \"gridcolor\": \"white\", \"gridwidth\": 2, \"linecolor\": \"white\", \"showbackground\": true, \"ticks\": \"\", \"zerolinecolor\": \"white\"}, \"yaxis\": {\"backgroundcolor\": \"#E5ECF6\", \"gridcolor\": \"white\", \"gridwidth\": 2, \"linecolor\": \"white\", \"showbackground\": true, \"ticks\": \"\", \"zerolinecolor\": \"white\"}, \"zaxis\": {\"backgroundcolor\": \"#E5ECF6\", \"gridcolor\": \"white\", \"gridwidth\": 2, \"linecolor\": \"white\", \"showbackground\": true, \"ticks\": \"\", \"zerolinecolor\": \"white\"}}, \"shapedefaults\": {\"line\": {\"color\": \"#2a3f5f\"}}, \"ternary\": {\"aaxis\": {\"gridcolor\": \"white\", \"linecolor\": \"white\", \"ticks\": \"\"}, \"baxis\": {\"gridcolor\": \"white\", \"linecolor\": \"white\", \"ticks\": \"\"}, \"bgcolor\": \"#E5ECF6\", \"caxis\": {\"gridcolor\": \"white\", \"linecolor\": \"white\", \"ticks\": \"\"}}, \"title\": {\"x\": 0.05}, \"xaxis\": {\"automargin\": true, \"gridcolor\": \"white\", \"linecolor\": \"white\", \"ticks\": \"\", \"title\": {\"standoff\": 15}, \"zerolinecolor\": \"white\", \"zerolinewidth\": 2}, \"yaxis\": {\"automargin\": true, \"gridcolor\": \"white\", \"linecolor\": \"white\", \"ticks\": \"\", \"title\": {\"standoff\": 15}, \"zerolinecolor\": \"white\", \"zerolinewidth\": 2}}}, \"title\": {\"text\": \"Top 10 places with highest magnitude error, horizontal error and depth error\"}, \"width\": 800, \"xaxis\": {\"anchor\": \"y\", \"domain\": [0.0, 0.2888888888888889]}, \"xaxis2\": {\"anchor\": \"y2\", \"domain\": [0.35555555555555557, 0.6444444444444445]}, \"xaxis3\": {\"anchor\": \"y3\", \"domain\": [0.7111111111111111, 1.0]}, \"yaxis\": {\"anchor\": \"x\", \"domain\": [0.0, 1.0]}, \"yaxis2\": {\"anchor\": \"x2\", \"domain\": [0.0, 1.0]}, \"yaxis3\": {\"anchor\": \"x3\", \"domain\": [0.0, 1.0]}},                        {\"responsive\": true}                    ).then(function(){\n",
       "                            \n",
       "var gd = document.getElementById('51574ff8-0713-438e-a358-805b2f4272eb');\n",
       "var x = new MutationObserver(function (mutations, observer) {{\n",
       "        var display = window.getComputedStyle(gd).display;\n",
       "        if (!display || display === 'none') {{\n",
       "            console.log([gd, 'removed!']);\n",
       "            Plotly.purge(gd);\n",
       "            observer.disconnect();\n",
       "        }}\n",
       "}});\n",
       "\n",
       "// Listen for the removal of the full notebook cells\n",
       "var notebookContainer = gd.closest('#notebook-container');\n",
       "if (notebookContainer) {{\n",
       "    x.observe(notebookContainer, {childList: true});\n",
       "}}\n",
       "\n",
       "// Listen for the clearing of the current output cell\n",
       "var outputEl = gd.closest('.output');\n",
       "if (outputEl) {{\n",
       "    x.observe(outputEl, {childList: true});\n",
       "}}\n",
       "\n",
       "                        })                };                });            </script>        </div>"
      ]
     },
     "metadata": {},
     "output_type": "display_data"
    }
   ],
   "source": [
    "fig = make_subplots(rows=1, cols=3)\n",
    "\n",
    "fig.add_trace(\n",
    "   go.Bar(x=df_magError['place'], y=df_magError[\"magError\"], name=\"Magnitude Error\"),\n",
    "   row=1, col=1\n",
    ")\n",
    "\n",
    "fig.add_trace(\n",
    "   go.Bar(x=df_horizontalError['place'], y=df_horizontalError[\"horizontalError\"], name=\"Horizontal Error (km)\"),\n",
    "   row=1, col=2\n",
    ")\n",
    "\n",
    "fig.add_trace(\n",
    "   go.Bar(x=df_depthError['place'], y=df_depthError[\"depthError\"], name=\"Depth Error (km)\"),\n",
    "   row=1, col=3\n",
    ")\n",
    "\n",
    "fig.update_layout(height=600, width=800, title_text=\"Top 10 places with highest magnitude error, horizontal error and depth error\")\n",
    "fig.show()"
   ]
  },
  {
   "cell_type": "code",
   "execution_count": null,
   "metadata": {},
   "outputs": [],
   "source": []
  }
 ],
 "metadata": {
  "kernelspec": {
   "display_name": "Python 3",
   "language": "python",
   "name": "python3"
  },
  "language_info": {
   "codemirror_mode": {
    "name": "ipython",
    "version": 3
   },
   "file_extension": ".py",
   "mimetype": "text/x-python",
   "name": "python",
   "nbconvert_exporter": "python",
   "pygments_lexer": "ipython3",
   "version": "3.8.6"
  }
 },
 "nbformat": 4,
 "nbformat_minor": 4
}
